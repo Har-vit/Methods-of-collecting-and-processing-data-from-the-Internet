{
 "cells": [
  {
   "cell_type": "markdown",
   "metadata": {},
   "source": [
    "1. Посмотреть документацию к API GitHub, разобраться как вывести список репозиториев для конкретного пользователя, сохранить JSON-вывод в файле *.json."
   ]
  },
  {
   "cell_type": "code",
   "execution_count": 10,
   "metadata": {},
   "outputs": [
    {
     "name": "stdout",
     "output_type": "stream",
     "text": [
      "Enter the github username: Har-vit\n",
      "Project Number: 1\n",
      "Project Name: -Python\n",
      "Project URL: https://github.com/Har-vit/-Python \n",
      "\n",
      "Project Number: 2\n",
      "Project Name: ASM.19.Lab1\n",
      "Project URL: https://github.com/Har-vit/ASM.19.Lab1 \n",
      "\n",
      "Project Number: 3\n",
      "Project Name: ASM.19.Lab2\n",
      "Project URL: https://github.com/Har-vit/ASM.19.Lab2 \n",
      "\n",
      "Project Number: 4\n",
      "Project Name: Data-Science-Numpy-Matplotlib-Scikit-learn\n",
      "Project URL: https://github.com/Har-vit/Data-Science-Numpy-Matplotlib-Scikit-learn \n",
      "\n",
      "Project Number: 5\n",
      "Project Name: Elementary-algebra\n",
      "Project URL: https://github.com/Har-vit/Elementary-algebra \n",
      "\n",
      "Project Number: 6\n",
      "Project Name: GeekBrainsDB\n",
      "Project URL: https://github.com/Har-vit/GeekBrainsDB \n",
      "\n",
      "Project Number: 7\n",
      "Project Name: https-github.com-asugubkin-ASM.19.Lab2\n",
      "Project URL: https://github.com/Har-vit/https-github.com-asugubkin-ASM.19.Lab2 \n",
      "\n"
     ]
    }
   ],
   "source": [
    "import requests\n",
    "import json\n",
    "\n",
    "username = input(\"Enter the github username: \")\n",
    "request = requests.get('https://api.github.com/users/' + username + '/repos')\n",
    "data = request.json()\n",
    "\n",
    "with open(\"data_file.json\", \"w\") as write_file:\n",
    "    json.dump(data, write_file)\n",
    "\n",
    "for i in range(0, len(data)):\n",
    "    print(\"Project Number:\", i + 1)\n",
    "    print(\"Project Name:\", data[i]['name'])\n",
    "    print(\"Project URL:\", data[i]['svn_url'], \"\\n\")"
   ]
  },
  {
   "cell_type": "markdown",
   "metadata": {},
   "source": [
    "2. Изучить список открытых API. Найти среди них любое, требующее авторизацию (любого типа). Выполнить запросы к нему, пройдя авторизацию. Ответ сервера записать в файл."
   ]
  },
  {
   "cell_type": "code",
   "execution_count": null,
   "metadata": {},
   "outputs": [],
   "source": [
    "url = 'https://api.vk.com/method/friends.get'\n",
    "token = '30320cae30320cae30320cae75305e26c13303230320cae6d7e406dd13fd49332ba7b09'\n",
    "user_id = input(\"Enter the VK id number:\")\n",
    "params = {'user_id': user_id, 'v': 5.95, 'access_token': token}\n",
    "\n",
    "response = requests.get(url, params=params)\n",
    "\n",
    "with open(\"data_file2.json\", \"w\") as write_file:\n",
    "    json.dump(response.text, write_file)"
   ]
  }
 ],
 "metadata": {
  "kernelspec": {
   "display_name": "Python 3",
   "language": "python",
   "name": "python3"
  },
  "language_info": {
   "codemirror_mode": {
    "name": "ipython",
    "version": 3
   },
   "file_extension": ".py",
   "mimetype": "text/x-python",
   "name": "python",
   "nbconvert_exporter": "python",
   "pygments_lexer": "ipython3",
   "version": "3.7.6"
  }
 },
 "nbformat": 4,
 "nbformat_minor": 4
}
