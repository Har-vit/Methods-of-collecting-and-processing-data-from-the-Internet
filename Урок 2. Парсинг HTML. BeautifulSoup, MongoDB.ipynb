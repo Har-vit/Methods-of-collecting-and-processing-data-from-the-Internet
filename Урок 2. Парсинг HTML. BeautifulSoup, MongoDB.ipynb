{
 "cells": [
  {
   "cell_type": "markdown",
   "metadata": {},
   "source": [
    "Необходимо собрать информацию о вакансиях на вводимую должность (используем input или через аргументы) с сайта superjob.ru и hh.ru. Приложение должно анализировать несколько страниц сайта(также вводим через input или аргументы). Получившийся список должен содержать в себе минимум:\n",
    "\n",
    "    *Наименование вакансии\n",
    "    *Предлагаемую зарплату (отдельно мин. и отдельно макс.)\n",
    "    *Ссылку на саму вакансию        \n",
    "    *Сайт откуда собрана вакансия\n",
    "По своему желанию можно добавить еще работодателя и расположение. Данная структура должна быть одинаковая для вакансий с обоих сайтов. Общий результат можно вывести с помощью dataFrame через pandas.\n",
    "\n",
    "!!!В первую очередь делаем сайт hh.ru - его обязательно. sj.ru можно попробовать сделать вторым. Он находится в очень странном состоянии и возможна некорректная работа.!!!"
   ]
  },
  {
   "cell_type": "code",
   "execution_count": 1,
   "metadata": {},
   "outputs": [],
   "source": [
    "from bs4 import BeautifulSoup as bs\n",
    "import requests\n",
    "from pprint import pprint\n",
    "import re"
   ]
  },
  {
   "cell_type": "code",
   "execution_count": 2,
   "metadata": {},
   "outputs": [],
   "source": [
    "headers = {'User-Agent':'Mozilla/5.0 (Windows NT 10.0; Win64; x64) AppleWebKit/537.36 (KHTML, like Gecko) Chrome/83.0.4103.61 Safari/537.36'}"
   ]
  },
  {
   "cell_type": "code",
   "execution_count": 3,
   "metadata": {},
   "outputs": [],
   "source": [
    "def hh(search_str, n_str):\n",
    "    main_link = 'https://hh.ru/'\n",
    "    html = requests.get(main_link + '/search/vacancy?area=1&st=searchVacancy&text=' + search_str + '&fromSearch=true&from=suggest_post', headers = headers).text\n",
    "    parsed_html = bs(html,'lxml')\n",
    "\n",
    "    jobs = []\n",
    "    for i in range(n_str):\n",
    "        jobs_block = parsed_html.find('div', {'class' : 'vacancy-serp-item__row vacancy-serp-item__row_header'})\n",
    "        jobs_list = jobs_block.findChildren(recursive = False)\n",
    "        for job in jobs_list:\n",
    "            job_data = {}\n",
    "            req = job.find('span', {'class' : 'g-user-content'})\n",
    "            if req != None:\n",
    "                main_info = req.findChild()\n",
    "                job_name = main_info.getText()\n",
    "                job_link = main_info['href']\n",
    "                salary = job.find('span', {'class': 'vacancy-serp-item__compensation'})\n",
    "                \n",
    "                if not salary:\n",
    "                    salary_min = None\n",
    "                    salary_max = None\n",
    "                    salary_currency = None\n",
    "                else:\n",
    "                    salary = salary.getText().replace(u'\\xa0', u'')\n",
    "\n",
    "                    salary = re.split(r'\\s|-', salary)\n",
    "\n",
    "                    if salary[0] == 'до':\n",
    "                        salary_min = None\n",
    "                        salary_max = int(salary[1])\n",
    "                    elif salary[0] == 'от':\n",
    "                        salary_min = int(salary[1])\n",
    "                        salary_max = None\n",
    "                    else:\n",
    "                        salary_min = int(salary[0])\n",
    "                        salary_max = int(salary[1])            \n",
    "\n",
    "                    salary_currency = salary[2]\n",
    "                    \n",
    "                job_data['name'] = job_name\n",
    "                job_data['salary_min'] = salary_min\n",
    "                job_data['salary_max'] = salary_max\n",
    "                job_data['salary_currency'] = salary_currency\n",
    "                job_data['link'] = job_link\n",
    "                job_data['site'] = main_link\n",
    "                jobs.append(job_data)\n",
    "                \n",
    "        next_btn_block = parsed_html.find('a', {'class' : 'bloko-button HH-Pager-Controls-Next HH-Pager-Control'})\n",
    "        next_btn_link = next_btn_block['href']\n",
    "        html = requests.get(main_link + next_btn_link, headers = headers).text\n",
    "        parsed_html = bs(html, 'lxml')\n",
    "\n",
    "    pprint(jobs)\n",
    "    return jobs"
   ]
  },
  {
   "cell_type": "code",
   "execution_count": 4,
   "metadata": {},
   "outputs": [
    {
     "name": "stdout",
     "output_type": "stream",
     "text": [
      "[{'link': 'https://hh.ru/vacancy/36916080?query=Data%20science',\n",
      "  'name': 'Python Data Scientist',\n",
      "  'salary_currency': None,\n",
      "  'salary_max': None,\n",
      "  'salary_min': None,\n",
      "  'site': 'https://hh.ru/'},\n",
      " {'link': 'https://hh.ru/vacancy/37393665?query=Data%20science',\n",
      "  'name': 'Release Manager',\n",
      "  'salary_currency': None,\n",
      "  'salary_max': None,\n",
      "  'salary_min': None,\n",
      "  'site': 'https://hh.ru/'},\n",
      " {'link': 'https://hh.ru/vacancy/37332883?query=Data%20science',\n",
      "  'name': 'Преподаватель курса \"Анализ данных и машинное обучение\"',\n",
      "  'salary_currency': None,\n",
      "  'salary_max': None,\n",
      "  'salary_min': None,\n",
      "  'site': 'https://hh.ru/'}]\n"
     ]
    },
    {
     "data": {
      "text/plain": [
       "[{'name': 'Python Data Scientist',\n",
       "  'salary_min': None,\n",
       "  'salary_max': None,\n",
       "  'salary_currency': None,\n",
       "  'link': 'https://hh.ru/vacancy/36916080?query=Data%20science',\n",
       "  'site': 'https://hh.ru/'},\n",
       " {'name': 'Release Manager',\n",
       "  'salary_min': None,\n",
       "  'salary_max': None,\n",
       "  'salary_currency': None,\n",
       "  'link': 'https://hh.ru/vacancy/37393665?query=Data%20science',\n",
       "  'site': 'https://hh.ru/'},\n",
       " {'name': 'Преподаватель курса \"Анализ данных и машинное обучение\"',\n",
       "  'salary_min': None,\n",
       "  'salary_max': None,\n",
       "  'salary_currency': None,\n",
       "  'link': 'https://hh.ru/vacancy/37332883?query=Data%20science',\n",
       "  'site': 'https://hh.ru/'}]"
      ]
     },
     "execution_count": 4,
     "metadata": {},
     "output_type": "execute_result"
    }
   ],
   "source": [
    "search_str = 'Data science'\n",
    "n_str = 3\n",
    "\n",
    "hh(search_str, n_str)"
   ]
  },
  {
   "cell_type": "code",
   "execution_count": null,
   "metadata": {},
   "outputs": [],
   "source": []
  }
 ],
 "metadata": {
  "kernelspec": {
   "display_name": "Python 3",
   "language": "python",
   "name": "python3"
  },
  "language_info": {
   "codemirror_mode": {
    "name": "ipython",
    "version": 3
   },
   "file_extension": ".py",
   "mimetype": "text/x-python",
   "name": "python",
   "nbconvert_exporter": "python",
   "pygments_lexer": "ipython3",
   "version": "3.7.6"
  },
  "toc": {
   "base_numbering": 1,
   "nav_menu": {},
   "number_sections": true,
   "sideBar": true,
   "skip_h1_title": false,
   "title_cell": "Table of Contents",
   "title_sidebar": "Contents",
   "toc_cell": false,
   "toc_position": {},
   "toc_section_display": true,
   "toc_window_display": false
  }
 },
 "nbformat": 4,
 "nbformat_minor": 4
}
